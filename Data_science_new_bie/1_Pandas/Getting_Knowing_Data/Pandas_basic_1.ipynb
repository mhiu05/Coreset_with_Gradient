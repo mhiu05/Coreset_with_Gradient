{
 "cells": [
  {
   "cell_type": "markdown",
   "id": "636b4360-6967-4fd9-b970-0fcfbaf21bf4",
   "metadata": {},
   "source": [
    "# Getting and Knowing Data"
   ]
  },
  {
   "cell_type": "code",
   "execution_count": null,
   "id": "72426155-f295-4e3b-a929-110415f834ba",
   "metadata": {},
   "outputs": [],
   "source": [
    "import pandas as pd\n",
    "import numpy as np"
   ]
  },
  {
   "cell_type": "markdown",
   "id": "13858e26-54b8-4039-b9cc-88f7053ebcfa",
   "metadata": {},
   "source": [
    "## Step 1: Import Dataset"
   ]
  },
  {
   "cell_type": "code",
   "execution_count": null,
   "id": "e029716c-b9a4-4822-9a7a-baa9def047a4",
   "metadata": {},
   "outputs": [],
   "source": [
    "df = pd.read_csv(\"chipotle.tsv\", sep = \"\\t\")"
   ]
  },
  {
   "cell_type": "code",
   "execution_count": null,
   "id": "e7673be7-3e0d-45d0-809b-f2ee970a9ba7",
   "metadata": {},
   "outputs": [],
   "source": [
    "df.head(5)"
   ]
  },
  {
   "cell_type": "markdown",
   "id": "27ea4b32-823d-4460-be8a-0a9fb58394aa",
   "metadata": {},
   "source": [
    "## Step 2: Dataset Overview"
   ]
  },
  {
   "cell_type": "code",
   "execution_count": null,
   "id": "52de4034-ad56-455e-b44e-b05fdab14150",
   "metadata": {},
   "outputs": [],
   "source": [
    "df.shape"
   ]
  },
  {
   "cell_type": "code",
   "execution_count": null,
   "id": "c430e998-77ac-49c3-8ed5-4a9073e1c09c",
   "metadata": {
    "scrolled": true
   },
   "outputs": [],
   "source": [
    "df.info()"
   ]
  },
  {
   "cell_type": "code",
   "execution_count": null,
   "id": "2d1b4e22-0cf2-4a0c-88be-bc402773f4e4",
   "metadata": {},
   "outputs": [],
   "source": [
    "#print all colum's name\n",
    "df.columns"
   ]
  },
  {
   "cell_type": "code",
   "execution_count": null,
   "id": "598d67d8-cf87-4b23-be65-61e4ed46ac7d",
   "metadata": {},
   "outputs": [],
   "source": [
    "list(df.columns)"
   ]
  },
  {
   "cell_type": "code",
   "execution_count": null,
   "id": "e37eb1e0-d530-41c5-8390-7396c3dd4ca8",
   "metadata": {},
   "outputs": [],
   "source": [
    "df.index"
   ]
  },
  {
   "cell_type": "code",
   "execution_count": null,
   "id": "14349c33-86f4-412b-9a97-ae9b208fd0b0",
   "metadata": {},
   "outputs": [],
   "source": [
    "df.describe()"
   ]
  },
  {
   "cell_type": "code",
   "execution_count": null,
   "id": "02feaa2f-8319-4f3e-a1b8-ff04ebe5811c",
   "metadata": {},
   "outputs": [],
   "source": [
    "df.describe(include = \"all\")"
   ]
  },
  {
   "cell_type": "markdown",
   "id": "e7812a5d-4857-4613-83d8-6881cae54636",
   "metadata": {},
   "source": [
    "## loc vs iloc"
   ]
  },
  {
   "cell_type": "code",
   "execution_count": null,
   "id": "b0dc4982-7b19-4e37-a797-542d1a1a2f17",
   "metadata": {},
   "outputs": [],
   "source": [
    "df.head()"
   ]
  },
  {
   "cell_type": "code",
   "execution_count": null,
   "id": "fe4337ca-0d92-4732-98d9-3676750605e0",
   "metadata": {},
   "outputs": [],
   "source": [
    "df.loc[(df.quantity == 2) & (df.item_name == \"Nantucket Nectar\"), ['order_id', 'quantity']]"
   ]
  },
  {
   "cell_type": "code",
   "execution_count": null,
   "id": "32469000-6c31-4c5c-bf10-c6e4f0724f0b",
   "metadata": {},
   "outputs": [],
   "source": [
    "df.iloc[9]"
   ]
  },
  {
   "cell_type": "code",
   "execution_count": null,
   "id": "dacdbf90-fae3-4110-889d-8eec0aef14b2",
   "metadata": {},
   "outputs": [],
   "source": [
    "df.iloc[[9]]"
   ]
  },
  {
   "cell_type": "code",
   "execution_count": null,
   "id": "403e2e1f-339a-4425-aa56-17bc55c6a6e7",
   "metadata": {},
   "outputs": [],
   "source": [
    "df.iloc[3:5]"
   ]
  },
  {
   "cell_type": "code",
   "execution_count": null,
   "id": "088b1c32-c94d-49bb-9370-cdb681bd16c6",
   "metadata": {},
   "outputs": [],
   "source": [
    "df.iloc[3:5, :-1]"
   ]
  },
  {
   "cell_type": "code",
   "execution_count": null,
   "id": "987545f5-db1c-4b61-ba86-208117492b16",
   "metadata": {
    "scrolled": true
   },
   "outputs": [],
   "source": [
    "x = df.iloc[3:5, :-1]\n",
    "y = df.iloc[3:5, -1]\n",
    "print(x)\n",
    "print(y)"
   ]
  },
  {
   "cell_type": "markdown",
   "id": "befcdd28-caf4-4370-b6d4-aec4f3903648",
   "metadata": {},
   "source": [
    "## Data manipulation"
   ]
  },
  {
   "cell_type": "code",
   "execution_count": null,
   "id": "4963d31d-15b9-42c4-814a-a82673b0f3a2",
   "metadata": {},
   "outputs": [],
   "source": [
    "df.item_price.dtype"
   ]
  },
  {
   "cell_type": "markdown",
   "id": "04d84c76-6554-4673-a7f0-2d8f264b5300",
   "metadata": {},
   "source": [
    "## Apply()"
   ]
  },
  {
   "cell_type": "code",
   "execution_count": null,
   "id": "46eda734-4b05-481c-9abe-5a1295a9f29c",
   "metadata": {},
   "outputs": [],
   "source": [
    "df.item_price = df.item_price.apply(lambda x : float(x.replace('$', '')))"
   ]
  },
  {
   "cell_type": "code",
   "execution_count": null,
   "id": "c4396c66-3c79-4a76-a654-3796fdaee2b1",
   "metadata": {
    "scrolled": true
   },
   "outputs": [],
   "source": [
    "df.head()"
   ]
  },
  {
   "cell_type": "code",
   "execution_count": null,
   "id": "ce602794-60ed-4bcd-9329-d5d0fe403479",
   "metadata": {},
   "outputs": [],
   "source": [
    "df[\"total_price\"] = df[\"quantity\"] * df[\"item_price\"]"
   ]
  },
  {
   "cell_type": "code",
   "execution_count": null,
   "id": "409f68b9-524b-4bed-8612-68010e4b6f9f",
   "metadata": {
    "scrolled": true
   },
   "outputs": [],
   "source": [
    "df.head()"
   ]
  },
  {
   "cell_type": "markdown",
   "id": "42280510-0180-4586-a9bd-32c56bfe6e35",
   "metadata": {},
   "source": [
    "## how much was the revenue for the period in the dataset?"
   ]
  },
  {
   "cell_type": "code",
   "execution_count": null,
   "id": "201015c0-8fde-4490-9555-f0ec8c57a541",
   "metadata": {},
   "outputs": [],
   "source": [
    "revenue = df[\"total_price\"].sum()\n",
    "print(revenue)"
   ]
  },
  {
   "cell_type": "markdown",
   "id": "f3f065dc-3e32-4b30-9567-04f3f5c84eaa",
   "metadata": {},
   "source": [
    "## Which was the most ordered item?"
   ]
  },
  {
   "cell_type": "markdown",
   "id": "e7cb6fd4-1cd5-4954-8c80-00705e1d8637",
   "metadata": {},
   "source": [
    "## Group by"
   ]
  },
  {
   "cell_type": "code",
   "execution_count": null,
   "id": "3135d8af-ab13-475d-82bf-6134732e4a0c",
   "metadata": {},
   "outputs": [],
   "source": [
    "df.groupby(\"item_name\")[\"quantity\"].apply(print)"
   ]
  },
  {
   "cell_type": "code",
   "execution_count": null,
   "id": "778dac3f-117b-4166-bcdd-9cae0b0b85e5",
   "metadata": {},
   "outputs": [],
   "source": [
    "df.groupby(\"item_name\")[\"quantity\"].sum()"
   ]
  },
  {
   "cell_type": "code",
   "execution_count": null,
   "id": "db17a3b3-64da-4a81-8dc8-58a43c927809",
   "metadata": {},
   "outputs": [],
   "source": [
    "c = df.groupby(\"item_name\")[\"quantity\"].sum()\n",
    "c.sort_values()"
   ]
  },
  {
   "cell_type": "code",
   "execution_count": null,
   "id": "6167a384-6c26-45e5-985c-c4a83ab5986b",
   "metadata": {},
   "outputs": [],
   "source": [
    "c = df.groupby(\"item_name\")[\"quantity\"].sum()\n",
    "c.sort_values(ascending = False).head(5)"
   ]
  },
  {
   "cell_type": "code",
   "execution_count": null,
   "id": "f1da75e1-610b-47fb-bbe4-d186375af11e",
   "metadata": {},
   "outputs": [],
   "source": [
    "#unique value\n",
    "df.item_name.value_counts()"
   ]
  },
  {
   "cell_type": "code",
   "execution_count": null,
   "id": "6c8c1eaf-4d30-4381-b2e1-a58e0e414a13",
   "metadata": {},
   "outputs": [],
   "source": [
    "df.item_name.value_counts().count()"
   ]
  }
 ],
 "metadata": {
  "kernelspec": {
   "display_name": "Python [conda env:base] *",
   "language": "python",
   "name": "conda-base-py"
  },
  "language_info": {
   "codemirror_mode": {
    "name": "ipython",
    "version": 3
   },
   "file_extension": ".py",
   "mimetype": "text/x-python",
   "name": "python",
   "nbconvert_exporter": "python",
   "pygments_lexer": "ipython3",
   "version": "3.12.7"
  }
 },
 "nbformat": 4,
 "nbformat_minor": 5
}
